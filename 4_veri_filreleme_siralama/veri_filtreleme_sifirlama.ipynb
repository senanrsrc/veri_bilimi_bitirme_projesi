{
 "cells": [
  {
   "metadata": {},
   "cell_type": "markdown",
   "source": "# 4. Veri Filtreleme & Sıralama Projesi (country.csv)",
   "id": "3fbcb60b716aa493"
  },
  {
   "metadata": {},
   "cell_type": "markdown",
   "source": "#### → Kütüphaneler içeri aktarıldı.",
   "id": "7fdcca5afe922dbc"
  },
  {
   "metadata": {
    "ExecuteTime": {
     "end_time": "2025-10-04T14:10:30.615097Z",
     "start_time": "2025-10-04T14:10:30.072918Z"
    }
   },
   "cell_type": "code",
   "source": "import pandas as pd",
   "id": "c19ebca208c97c2a",
   "outputs": [],
   "execution_count": 1
  },
  {
   "metadata": {},
   "cell_type": "markdown",
   "source": "#### → country.csv dosyası DataFrame'e yüklendi.",
   "id": "2ae886401bf263f9"
  },
  {
   "metadata": {},
   "cell_type": "markdown",
   "source": "Bu tablo, çeşitli ülkelerle ilgili bir dizi demografik, ekonomik ve coğrafi veriyi içermektedir. Tabloda her bir satır bir ülkeyi temsil ederken, sütunlar bu ülkelerle ilgili farklı özellikleri gösterir.",
   "id": "c048e99914fc0628"
  },
  {
   "metadata": {
    "ExecuteTime": {
     "end_time": "2025-10-04T14:10:30.645281Z",
     "start_time": "2025-10-04T14:10:30.627604Z"
    }
   },
   "cell_type": "code",
   "source": [
    "data = pd.read_csv('country.csv')\n",
    "print(data.head())\n",
    "print(f\"Veri seti boyutu: {data.shape}\")"
   ],
   "id": "b132330b91e7d8b9",
   "outputs": [
    {
     "name": "stdout",
     "output_type": "stream",
     "text": [
      "           Country                               Region  Population  \\\n",
      "0     Afghanistan         ASIA (EX. NEAR EAST)             31056997   \n",
      "1         Albania   EASTERN EUROPE                          3581655   \n",
      "2         Algeria   NORTHERN AFRICA                        32930091   \n",
      "3  American Samoa   OCEANIA                                   57794   \n",
      "4         Andorra   WESTERN EUROPE                            71201   \n",
      "\n",
      "   Area (sq. mi.) Pop. Density (per sq. mi.) Coastline (coast/area ratio)  \\\n",
      "0          647500                       48,0                         0,00   \n",
      "1           28748                      124,6                         1,26   \n",
      "2         2381740                       13,8                         0,04   \n",
      "3             199                      290,4                        58,29   \n",
      "4             468                      152,1                         0,00   \n",
      "\n",
      "  Net migration Infant mortality (per 1000 births)  GDP ($ per capita)  \\\n",
      "0         23,06                             163,07               700.0   \n",
      "1         -4,93                              21,52              4500.0   \n",
      "2         -0,39                                 31              6000.0   \n",
      "3        -20,71                               9,27              8000.0   \n",
      "4           6,6                               4,05             19000.0   \n",
      "\n",
      "  Literacy (%) Phones (per 1000) Arable (%) Crops (%) Other (%) Climate  \\\n",
      "0         36,0               3,2      12,13      0,22     87,65       1   \n",
      "1         86,5              71,2      21,09      4,42     74,49       3   \n",
      "2         70,0              78,1       3,22      0,25     96,53       1   \n",
      "3         97,0             259,5         10        15        75       2   \n",
      "4        100,0             497,2       2,22         0     97,78       3   \n",
      "\n",
      "  Birthrate Deathrate Agriculture Industry Service  \n",
      "0      46,6     20,34        0,38     0,24    0,38  \n",
      "1     15,11      5,22       0,232    0,188   0,579  \n",
      "2     17,14      4,61       0,101      0,6   0,298  \n",
      "3     22,46      3,27         NaN      NaN     NaN  \n",
      "4      8,71      6,25         NaN      NaN     NaN  \n",
      "Veri seti boyutu: (227, 20)\n"
     ]
    }
   ],
   "execution_count": 2
  },
  {
   "metadata": {},
   "cell_type": "markdown",
   "source": "## Görev 1 : Nüfusa Göre Azalan Sırada Ülkeleri Listeleme",
   "id": "29b1f67e522628dc"
  },
  {
   "metadata": {},
   "cell_type": "markdown",
   "source": [
    "ascending=false : Büyükten küçüğe (azalan sırada)\n",
    "\n",
    "\n",
    "ascending=true : Küçükten büyüğe (artan sırada) sıralama yapar.\n",
    "\n",
    "reset_index(drop=True) : Sıralama sonrası index'lerin karışmasını önler."
   ],
   "id": "ab0a9bf121ead64a"
  },
  {
   "metadata": {
    "ExecuteTime": {
     "end_time": "2025-10-04T14:10:42.596873Z",
     "start_time": "2025-10-04T14:10:42.585556Z"
    }
   },
   "cell_type": "code",
   "source": [
    "nufus_azalan = data.sort_values('Population', ascending=False).reset_index(drop=True)\n",
    "print(\"En kalabalık 20 ülke:\")\n",
    "print(nufus_azalan[['Country', 'Population']].head(20))"
   ],
   "id": "575e9d72b97765d",
   "outputs": [
    {
     "name": "stdout",
     "output_type": "stream",
     "text": [
      "En kalabalık 20 ülke:\n",
      "              Country  Population\n",
      "0              China   1313973713\n",
      "1              India   1095351995\n",
      "2      United States    298444215\n",
      "3          Indonesia    245452739\n",
      "4             Brazil    188078227\n",
      "5           Pakistan    165803560\n",
      "6         Bangladesh    147365352\n",
      "7             Russia    142893540\n",
      "8            Nigeria    131859731\n",
      "9              Japan    127463611\n",
      "10            Mexico    107449525\n",
      "11       Philippines     89468677\n",
      "12           Vietnam     84402966\n",
      "13           Germany     82422299\n",
      "14             Egypt     78887007\n",
      "15          Ethiopia     74777981\n",
      "16            Turkey     70413958\n",
      "17              Iran     68688433\n",
      "18          Thailand     64631595\n",
      "19  Congo, Dem. Rep.     62660551\n"
     ]
    }
   ],
   "execution_count": 3
  },
  {
   "metadata": {},
   "cell_type": "markdown",
   "source": "## Görev 2 : \"GDP per capita\"ya Göre Artan Sırada Ülkeleri Listeleme",
   "id": "f595b24e88f1126f"
  },
  {
   "metadata": {},
   "cell_type": "markdown",
   "source": " GDP ($ per capita): Kişi başına düşen Gayri Safi Yurtiçi Hasıla (GSYİH).",
   "id": "e7de9b32700c3127"
  },
  {
   "metadata": {
    "ExecuteTime": {
     "end_time": "2025-10-04T14:11:54.006164Z",
     "start_time": "2025-10-04T14:11:53.989391Z"
    }
   },
   "cell_type": "code",
   "source": [
    "gdp_artan = data.sort_values('GDP ($ per capita)', ascending=True).reset_index(drop=True)\n",
    "print(\"En düşük GDP per capita'ya sahip 20 ülke:\")\n",
    "print(gdp_artan[['Country', 'GDP ($ per capita)']].head(20))\n"
   ],
   "id": "cc3ab7d6a40e564b",
   "outputs": [
    {
     "name": "stdout",
     "output_type": "stream",
     "text": [
      "En düşük GDP per capita'ya sahip 20 ülke:\n",
      "                  Country  GDP ($ per capita)\n",
      "0             East Timor                500.0\n",
      "1           Sierra Leone                500.0\n",
      "2                Somalia                500.0\n",
      "3                Burundi                600.0\n",
      "4                 Malawi                600.0\n",
      "5               Tanzania                600.0\n",
      "6             Gaza Strip                600.0\n",
      "7                Comoros                700.0\n",
      "8       Congo, Dem. Rep.                700.0\n",
      "9               Ethiopia                700.0\n",
      "10           Afghanistan                700.0\n",
      "11  Congo, Repub. of the                700.0\n",
      "12               Eritrea                700.0\n",
      "13            Madagascar                800.0\n",
      "14         Guinea-Bissau                800.0\n",
      "15              Kiribati                800.0\n",
      "16                 Niger                800.0\n",
      "17                 Yemen                800.0\n",
      "18             West Bank                800.0\n",
      "19                Zambia                800.0\n"
     ]
    }
   ],
   "execution_count": 4
  },
  {
   "metadata": {},
   "cell_type": "markdown",
   "source": "## Görev 3 : Nüfus'u 10 Milyonun Üzerinde Olan Ülkeleri Seçme",
   "id": "f305b8329a2849cf",
   "attachments": {
    "ff8ec35b-17c3-45cf-9033-d3a3d6d5af2a.png": {
     "image/png": "[encoded data removed]"
    }
   }
  },
  {
   "metadata": {
    "ExecuteTime": {
     "end_time": "2025-10-04T14:12:45.398519Z",
     "start_time": "2025-10-04T14:12:45.392968Z"
    }
   },
   "cell_type": "code",
   "source": [
    "nufus_10m_uzerinde = data[data['Population'] > 10_000_000]\n",
    "print(f\"Nüfusu 10 milyonun üzerinde olan ülke sayısı: {len(nufus_10m_uzerinde)}\")\n",
    "print(\"Bu ülkeler:\")\n",
    "print(nufus_10m_uzerinde[['Country', 'Population']])"
   ],
   "id": "a06279df2185ad76",
   "outputs": [
    {
     "name": "stdout",
     "output_type": "stream",
     "text": [
      "Nüfusu 10 milyonun üzerinde olan ülke sayısı: 79\n",
      "Bu ülkeler:\n",
      "          Country  Population\n",
      "0    Afghanistan     31056997\n",
      "2        Algeria     32930091\n",
      "5         Angola     12127071\n",
      "8      Argentina     39921833\n",
      "11     Australia     20264082\n",
      "..            ...         ...\n",
      "218    Venezuela     25730435\n",
      "219      Vietnam     84402966\n",
      "224        Yemen     21456188\n",
      "225       Zambia     11502010\n",
      "226     Zimbabwe     12236805\n",
      "\n",
      "[79 rows x 2 columns]\n"
     ]
    }
   ],
   "execution_count": 5
  },
  {
   "metadata": {},
   "cell_type": "markdown",
   "source": "## Görev 4 : Literacy Oranı En Yüksek 5 Ülkeyi Seçme",
   "id": "7ee52ab842a9ad2d"
  },
  {
   "metadata": {},
   "cell_type": "markdown",
   "source": "Literacy (%): Okur-yazarlık oranı.",
   "id": "2583e3906dd6f447"
  },
  {
   "metadata": {
    "ExecuteTime": {
     "end_time": "2025-10-04T14:13:09.412579Z",
     "start_time": "2025-10-04T14:13:09.406239Z"
    }
   },
   "cell_type": "code",
   "source": [
    "literacy_orani = data.sort_values('Literacy (%)', ascending=False)\n",
    "print(\"En yüksek okur-yazarlık oranına sahip 5 ülke:\")\n",
    "print(literacy_orani[['Country', 'Literacy (%)']].head())"
   ],
   "id": "814fd7abb253d813",
   "outputs": [
    {
     "name": "stdout",
     "output_type": "stream",
     "text": [
      "En yüksek okur-yazarlık oranına sahip 5 ülke:\n",
      "             Country Literacy (%)\n",
      "53   Czech Republic          99,9\n",
      "93          Iceland          99,9\n",
      "163          Poland          99,8\n",
      "114          Latvia          99,8\n",
      "64          Estonia          99,8\n"
     ]
    }
   ],
   "execution_count": 6
  },
  {
   "metadata": {},
   "cell_type": "markdown",
   "source": "## Görev 5 : Gdp per capita > 10.000 Olan Ülkeleri Filtreleme",
   "id": "6164ed81f94033bf",
   "attachments": {
    "859ecce6-b636-4bbb-8a40-51b531a5b1a0.png": {
     "image/png": "[encoded data removed]"
    }
   }
  },
  {
   "metadata": {
    "ExecuteTime": {
     "end_time": "2025-10-04T14:13:27.730805Z",
     "start_time": "2025-10-04T14:13:27.723775Z"
    }
   },
   "cell_type": "code",
   "source": [
    "zengin_ulkeler = data[data['GDP ($ per capita)'] > 10000]\n",
    "print(f\"GDP per capita 10,000'in üzerinde olan ülke sayısı: {len(zengin_ulkeler)}\")\n",
    "print(\"Bu ülkeler:\")\n",
    "zengin_sirali = zengin_ulkeler.sort_values('GDP ($ per capita)', ascending=False)\n",
    "print(zengin_sirali[['Country', 'GDP ($ per capita)']].head(20))"
   ],
   "id": "fc87c0c0192d932",
   "outputs": [
    {
     "name": "stdout",
     "output_type": "stream",
     "text": [
      "GDP per capita 10,000'in üzerinde olan ülke sayısı: 76\n",
      "Bu ülkeler:\n",
      "             Country  GDP ($ per capita)\n",
      "121      Luxembourg              55100.0\n",
      "154          Norway              37800.0\n",
      "214   United States              37800.0\n",
      "22          Bermuda              36000.0\n",
      "38   Cayman Islands              35000.0\n",
      "177      San Marino              34600.0\n",
      "196     Switzerland              32700.0\n",
      "54          Denmark              31100.0\n",
      "93          Iceland              30900.0\n",
      "12          Austria              30000.0\n",
      "36           Canada              29800.0\n",
      "98          Ireland              29600.0\n",
      "19          Belgium              29100.0\n",
      "11        Australia              29000.0\n",
      "91        Hong Kong              28800.0\n",
      "146     Netherlands              28600.0\n",
      "103           Japan              28200.0\n",
      "10            Aruba              28000.0\n",
      "213  United Kingdom              27700.0\n",
      "76          Germany              27600.0\n"
     ]
    }
   ],
   "execution_count": 7
  },
  {
   "metadata": {},
   "cell_type": "markdown",
   "source": "## Görev 6 : Nüfus Yoğunluğu En Yüksek İlk 10 Ülkeyi Bulma",
   "id": "f73ea0a5746b84a5",
   "attachments": {
    "b3f3dadd-953d-4be1-8ae7-56d273790577.png": {
     "image/png": "[encoded data removed]"
    }
   }
  },
  {
   "metadata": {},
   "cell_type": "markdown",
   "source": "Pop. Density (per sq. mi.): Nüfus yoğunluğu (mil kare başına düşen kişi sayısı).",
   "id": "358ff54d83955881"
  },
  {
   "metadata": {
    "ExecuteTime": {
     "end_time": "2025-10-04T14:14:01.654230Z",
     "start_time": "2025-10-04T14:14:01.643697Z"
    }
   },
   "cell_type": "code",
   "source": [
    "nufus_yogunlugu = data.sort_values('Pop. Density (per sq. mi.)', ascending=False)\n",
    "print(\"En yüksek nüfus yoğunluğuna sahip 10 ülke:\")\n",
    "print(nufus_yogunlugu[['Country', 'Pop. Density (per sq. mi.)']].head(20))"
   ],
   "id": "d745634cfbd74b0b",
   "outputs": [
    {
     "name": "stdout",
     "output_type": "stream",
     "text": [
      "En yüksek nüfus yoğunluğuna sahip 10 ülke:\n",
      "                   Country Pop. Density (per sq. mi.)\n",
      "9                 Armenia                        99,9\n",
      "186              Slovenia                        99,2\n",
      "202                  Togo                        97,7\n",
      "12                Austria                        97,7\n",
      "168               Romania                        93,9\n",
      "77                  Ghana                        93,6\n",
      "140            Montserrat                        92,5\n",
      "13             Azerbaijan                        91,9\n",
      "56               Dominica                        91,4\n",
      "206                Turkey                        90,2\n",
      "151                 Niger                         9,9\n",
      "5                  Angola                         9,7\n",
      "128                  Mali                         9,5\n",
      "47           Cook Islands                        89,1\n",
      "25   Bosnia & Herzegovina                        88,0\n",
      "52                 Cyprus                        84,8\n",
      "85               Guernsey                       838,6\n",
      "183          Sierra Leone                        83,7\n",
      "79                 Greece                        81,0\n",
      "123             Macedonia                        80,9\n"
     ]
    }
   ],
   "execution_count": 8
  }
 ],
 "metadata": {
  "kernelspec": {
   "display_name": "Python 3",
   "language": "python",
   "name": "python3"
  },
  "language_info": {
   "codemirror_mode": {
    "name": "ipython",
    "version": 2
   },
   "file_extension": ".py",
   "mimetype": "text/x-python",
   "name": "python",
   "nbconvert_exporter": "python",
   "pygments_lexer": "ipython2",
   "version": "2.7.6"
  }
 },
 "nbformat": 4,
 "nbformat_minor": 5
}
